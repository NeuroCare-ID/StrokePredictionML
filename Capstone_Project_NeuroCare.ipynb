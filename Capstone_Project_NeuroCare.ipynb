{
  "cells": [
    {
      "cell_type": "markdown",
      "metadata": {
        "id": "WZ5PkyG4A11H"
      },
      "source": [
        "# Capstone Project"
      ]
    },
    {
      "cell_type": "markdown",
      "metadata": {
        "id": "vq89Qym0BT2d"
      },
      "source": [
        "## Import Semua Packages/Library yang Digunakan"
      ]
    },
    {
      "cell_type": "code",
      "execution_count": null,
      "metadata": {
        "id": "dIiZYjmFABlr"
      },
      "outputs": [],
      "source": [
        "import pandas as pd\n",
        "import numpy as np\n",
        "import matplotlib.pyplot as plt\n",
        "import seaborn as sns\n",
        "from sklearn.model_selection import train_test_split\n",
        "from sklearn.preprocessing import MinMaxScaler\n",
        "from collections import Counter\n",
        "from sklearn.impute import SimpleImputer\n",
        "from sklearn.utils import resample\n",
        "from sklearn.metrics import accuracy_score, f1_score, confusion_matrix, ConfusionMatrixDisplay, roc_curve, roc_auc_score, classification_report\n",
        "import tensorflow as tf\n",
        "from tensorflow import keras\n",
        "from tensorflow.keras.callbacks import EarlyStopping, Callback\n",
        "from tensorflow.keras.models import Sequential\n",
        "from tensorflow.keras.layers import Dense, Dropout, BatchNormalization"
      ]
    },
    {
      "cell_type": "markdown",
      "metadata": {
        "id": "d3gCRNPRBXPy"
      },
      "source": [
        "## Data Preparation"
      ]
    },
    {
      "cell_type": "markdown",
      "metadata": {
        "id": "Pw8MpmMOBmOt"
      },
      "source": [
        "### Data Loading"
      ]
    },
    {
      "cell_type": "code",
      "execution_count": null,
      "metadata": {
        "id": "XW3GO-p8B1vH"
      },
      "outputs": [],
      "source": [
        "!mkdir -p ~/.kaggle\n",
        "!cp kaggle.json ~/.kaggle/kaggle.json\n",
        "!chmod 600 ~/.kaggle/kaggle.json\n",
        "!kaggle datasets download -d fedesoriano/stroke-prediction-dataset\n",
        "!unzip stroke-prediction-dataset.zip"
      ]
    },
    {
      "cell_type": "code",
      "execution_count": null,
      "metadata": {
        "id": "oWtFaEchClIy"
      },
      "outputs": [],
      "source": [
        "df = pd.read_csv('healthcare-dataset-stroke-data.csv')\n",
        "df.drop(['id', 'work_type'], axis=1, inplace=True)\n",
        "df"
      ]
    },
    {
      "cell_type": "markdown",
      "metadata": {
        "id": "amNlmI9UDXS3"
      },
      "source": [
        "### Data Cleaning"
      ]
    },
    {
      "cell_type": "code",
      "execution_count": null,
      "metadata": {
        "id": "2TNsRyyeDfq4"
      },
      "outputs": [],
      "source": [
        "df.info()"
      ]
    },
    {
      "cell_type": "code",
      "execution_count": null,
      "metadata": {
        "id": "li9TjEC2DnWV"
      },
      "outputs": [],
      "source": [
        "df.describe()"
      ]
    },
    {
      "cell_type": "code",
      "execution_count": null,
      "metadata": {
        "id": "S7OgDTWRh5rh"
      },
      "outputs": [],
      "source": [
        "cat_cols = df.select_dtypes(include=['object', 'category']).columns.tolist()\n",
        "\n",
        "for col in cat_cols:\n",
        "    print(f\"\\n=== Fitur: {col} ===\")\n",
        "    vc = df[col].value_counts(dropna=False)\n",
        "    pct = df[col].value_counts(normalize=True, dropna=False).mul(100).round(2)\n",
        "    summary = pd.DataFrame({\n",
        "        'count': vc,\n",
        "        'percent (%)': pct\n",
        "    })\n",
        "    print(summary)"
      ]
    },
    {
      "cell_type": "code",
      "execution_count": null,
      "metadata": {
        "id": "RVNcQx5WgJPQ"
      },
      "outputs": [],
      "source": [
        "df = df[df['gender'] != 'Other'].copy()"
      ]
    },
    {
      "cell_type": "markdown",
      "metadata": {
        "id": "1rMFaGCcIFFI"
      },
      "source": [
        "#### Handling Missing Value"
      ]
    },
    {
      "cell_type": "code",
      "execution_count": null,
      "metadata": {
        "id": "I2d7xt6SIIkz"
      },
      "outputs": [],
      "source": [
        "df.isna().sum()"
      ]
    },
    {
      "cell_type": "code",
      "execution_count": null,
      "metadata": {
        "id": "84Z3XodzYoRi"
      },
      "outputs": [],
      "source": [
        "imp_median = SimpleImputer(strategy='median')\n",
        "df[['bmi']] = imp_median.fit_transform(df[['bmi']])"
      ]
    },
    {
      "cell_type": "markdown",
      "metadata": {
        "id": "U_jlXzNOfIxD"
      },
      "source": [
        "#### Handling Imbalance Dataset"
      ]
    },
    {
      "cell_type": "code",
      "execution_count": null,
      "metadata": {
        "id": "t-4YVhqYcDtP"
      },
      "outputs": [],
      "source": [
        "df_majority = df[df.stroke == 0]\n",
        "df_minority = df[df.stroke == 1]\n",
        "\n",
        "minority_groups = df_minority.groupby(['heart_disease', 'hypertension'])\n",
        "\n",
        "upsampled = []\n",
        "for name, group in minority_groups:\n",
        "    n_samples = df_majority.shape[0] // minority_groups.ngroups\n",
        "    upsampled_group = resample(\n",
        "        group,\n",
        "        replace=True,\n",
        "        n_samples=n_samples,\n",
        "        random_state=42\n",
        "    )\n",
        "    upsampled.append(upsampled_group)\n",
        "\n",
        "upsampled_minority = pd.concat(upsampled)\n",
        "df = pd.concat([df_majority, upsampled_minority])\n",
        "\n",
        "df = df.sample(frac=1, random_state=42).reset_index(drop=True)\n",
        "\n",
        "print(\"\\nShape df:\", df.shape)\n",
        "df.head()"
      ]
    },
    {
      "cell_type": "markdown",
      "metadata": {
        "id": "q0N-bXFeS1an"
      },
      "source": [
        "### Exploratory Data Analysis"
      ]
    },
    {
      "cell_type": "markdown",
      "metadata": {
        "id": "7qJLpfQ-SEH4"
      },
      "source": [
        "#### Univariate Analysis"
      ]
    },
    {
      "cell_type": "code",
      "execution_count": null,
      "metadata": {
        "id": "L1Xof_VbSDYG"
      },
      "outputs": [],
      "source": [
        "numerical_features = df.select_dtypes(include='number').columns\n",
        "categorical_features = df.select_dtypes(include='object').columns.to_list()"
      ]
    },
    {
      "cell_type": "code",
      "execution_count": null,
      "metadata": {
        "id": "A5fdbCzYWlY8"
      },
      "outputs": [],
      "source": [
        "for feature in categorical_features:\n",
        "    count = df[feature].value_counts()\n",
        "    percent = 100 * df[feature].value_counts(normalize=True)\n",
        "\n",
        "    summary_df = pd.DataFrame({\n",
        "        'jumlah sampel': count,\n",
        "        'persentase': percent.round(1)\n",
        "    })\n",
        "    print(f\"\\nUnivariate summary for '{feature}':\")\n",
        "    print(summary_df)\n",
        "\n",
        "    count.plot(kind='bar', title=feature)\n",
        "    plt.xlabel(feature)\n",
        "    plt.ylabel(\"Count\")\n",
        "    plt.show()"
      ]
    },
    {
      "cell_type": "code",
      "execution_count": null,
      "metadata": {
        "id": "Ox0CRxKaSj9U"
      },
      "outputs": [],
      "source": [
        "df.hist(bins=50, figsize=(20,15))\n",
        "plt.show()"
      ]
    },
    {
      "cell_type": "markdown",
      "metadata": {
        "id": "I_ocpOizS7S6"
      },
      "source": [
        "#### Multivariate Analysis"
      ]
    },
    {
      "cell_type": "code",
      "execution_count": null,
      "metadata": {
        "id": "1jr6bjpKY__C"
      },
      "outputs": [],
      "source": [
        "for col in categorical_features:\n",
        "  sns.catplot(x=col, y=\"stroke\", kind=\"bar\", dodge=False, height = 4, aspect = 3,  data=df, palette=\"Set3\")\n",
        "  plt.title(\"Rata-rata 'stroke' Relatif terhadap - {}\".format(col))"
      ]
    },
    {
      "cell_type": "code",
      "execution_count": null,
      "metadata": {
        "id": "Vqu48OW7UU5-"
      },
      "outputs": [],
      "source": [
        "sns.pairplot(df, diag_kind = 'kde')"
      ]
    },
    {
      "cell_type": "code",
      "execution_count": null,
      "metadata": {
        "id": "9jM8ZJ4oUXT_"
      },
      "outputs": [],
      "source": [
        "plt.figure(figsize=(10, 8))\n",
        "correlation_matrix = df[numerical_features].corr().round(2)\n",
        "\n",
        "sns.heatmap(data=correlation_matrix, annot=True, cmap='coolwarm', linewidths=0.5, )\n",
        "plt.title(\"Correlation Matrix untuk Fitur Numerik \", size=20)"
      ]
    },
    {
      "cell_type": "markdown",
      "metadata": {
        "id": "4Tv-CwTK98L4"
      },
      "source": [
        "## Data Pre-Processing"
      ]
    },
    {
      "cell_type": "code",
      "execution_count": null,
      "metadata": {
        "id": "C7A-HyHu-Dlg"
      },
      "outputs": [],
      "source": [
        "df_encoded = pd.get_dummies(df, columns=categorical_features)\n",
        "df_encoded"
      ]
    },
    {
      "cell_type": "code",
      "execution_count": null,
      "metadata": {
        "id": "9ZSLLhX1f9TP"
      },
      "outputs": [],
      "source": [
        "def cha2ds2vasc(row):\n",
        "    score = 0\n",
        "    score += int(row['heart_disease'])\n",
        "    score += int(row['hypertension'])\n",
        "    if row['age'] >= 75:\n",
        "        score += 2\n",
        "    elif row['age'] >= 65:\n",
        "        score += 1\n",
        "    if 'gender_Male' in row and row['gender_Male'] == 0:\n",
        "        score += 1\n",
        "    return score"
      ]
    },
    {
      "cell_type": "code",
      "execution_count": null,
      "metadata": {
        "id": "S74xcPQpgAeQ"
      },
      "outputs": [],
      "source": [
        "df['cha2ds2vasc_score'] = df.apply(cha2ds2vasc, axis=1)"
      ]
    },
    {
      "cell_type": "code",
      "execution_count": null,
      "metadata": {
        "id": "gjePzJ-o-U3E"
      },
      "outputs": [],
      "source": [
        "X = df_encoded.drop(columns='stroke')\n",
        "y = df_encoded['stroke']"
      ]
    },
    {
      "cell_type": "code",
      "execution_count": null,
      "metadata": {
        "id": "x_I0t9LMS6OT"
      },
      "outputs": [],
      "source": [
        "X_train, X_test, y_train, y_test = train_test_split(X, y, test_size=0.2, random_state=42)\n",
        "print(f'Total sample semua dataset: {len(X)}')\n",
        "print(f'Total sample train dataset: {len(X_train)}')\n",
        "print(f'Total sample test dataset: {len(X_test)}')"
      ]
    },
    {
      "cell_type": "code",
      "execution_count": null,
      "metadata": {
        "id": "yERcCt45S2Kw"
      },
      "outputs": [],
      "source": [
        "scaler = MinMaxScaler()\n",
        "X_train = scaler.fit_transform(X_train)\n",
        "X_test = scaler.transform(X_test)"
      ]
    },
    {
      "cell_type": "markdown",
      "metadata": {
        "id": "eb64xwq80c4T"
      },
      "source": [
        "## Modelling"
      ]
    },
    {
      "cell_type": "code",
      "execution_count": null,
      "metadata": {
        "id": "mX5Q7cr_5adp"
      },
      "outputs": [],
      "source": [
        "class myCallback(tf.keras.callbacks.Callback):\n",
        "    def on_epoch_end(self, epoch, logs=None):\n",
        "        if logs.get('accuracy') > 0.92:\n",
        "            print(\"\\nAkurasi telah mencapai > 92%!\")\n",
        "            self.model.stop_training = True\n",
        "\n",
        "callbacks = myCallback()"
      ]
    },
    {
      "cell_type": "code",
      "execution_count": null,
      "metadata": {
        "id": "dpfjruMu4iTG"
      },
      "outputs": [],
      "source": [
        "model = Sequential([\n",
        "    Dense(128, input_dim=X_train.shape[1], activation='relu'),\n",
        "    BatchNormalization(),\n",
        "    Dropout(0.3),\n",
        "    Dense(64, activation='relu'),\n",
        "    BatchNormalization(),\n",
        "    Dropout(0.2),\n",
        "    Dense(32, activation='relu'),\n",
        "    Dense(1, activation='sigmoid')\n",
        "])\n",
        "\n",
        "model.compile(optimizer=keras.optimizers.Adam(learning_rate=0.003),\n",
        "              loss='binary_crossentropy',\n",
        "              metrics=['accuracy'])\n",
        "\n",
        "model.summary()"
      ]
    },
    {
      "cell_type": "code",
      "execution_count": null,
      "metadata": {
        "id": "q9zU3SaN6UeD"
      },
      "outputs": [],
      "source": [
        "history = model.fit(\n",
        "    X_train, y_train,\n",
        "    epochs=200,\n",
        "    batch_size=128,\n",
        "    validation_split=0.2,\n",
        "    callbacks=[callbacks],\n",
        "    verbose=2\n",
        ")"
      ]
    },
    {
      "cell_type": "markdown",
      "metadata": {
        "id": "HSHGHI04pOIH"
      },
      "source": [
        "## Evaluasi dan Visualisasi"
      ]
    },
    {
      "cell_type": "code",
      "execution_count": null,
      "metadata": {
        "id": "k3La37S1TfVH"
      },
      "outputs": [],
      "source": [
        "y_pred_prob = model.predict(X_test)\n",
        "y_pred = (y_pred_prob >= 0.5).astype(int)\n",
        "\n",
        "print(\"\\nClassification Report:\")\n",
        "print(classification_report(y_test, y_pred))"
      ]
    },
    {
      "cell_type": "code",
      "execution_count": null,
      "metadata": {
        "id": "n-i_Qmp7qC6C"
      },
      "outputs": [],
      "source": [
        "fpr, tpr, thresholds = roc_curve(y_test, y_pred_prob)\n",
        "auc_score = roc_auc_score(y_test, y_pred_prob)\n",
        "plt.figure(figsize=(6, 6))\n",
        "plt.plot(fpr, tpr, label=f'AUC = {auc_score:.2f}')\n",
        "plt.plot([0, 1], [0, 1], linestyle='--', color='gray')\n",
        "plt.xlabel('False Positive Rate')\n",
        "plt.ylabel('True Positive Rate')\n",
        "plt.title('ROC Curve')\n",
        "plt.legend()\n",
        "plt.show()"
      ]
    },
    {
      "cell_type": "code",
      "execution_count": null,
      "metadata": {
        "id": "EA0YtyTFqe0m"
      },
      "outputs": [],
      "source": [
        "acc = history.history['accuracy']\n",
        "val_acc = history.history['val_accuracy']\n",
        "loss = history.history['loss']\n",
        "val_loss = history.history['val_loss']\n",
        "\n",
        "epochs = range(len(acc))\n",
        "\n",
        "plt.plot(epochs, acc, 'r')\n",
        "plt.plot(epochs, val_acc, 'b')\n",
        "plt.title('Training and Validation Accuracy')\n",
        "plt.ylabel('accuracy')\n",
        "plt.xlabel('epoch')\n",
        "plt.legend(['train', 'val'], loc='upper left')\n",
        "plt.show()\n",
        "\n",
        "plt.plot(epochs, loss, 'r')\n",
        "plt.plot(epochs, val_loss, 'b')\n",
        "plt.ylabel('loss')\n",
        "plt.xlabel('epoch')\n",
        "plt.legend(['train', 'val'], loc='upper left')\n",
        "plt.title('Training and Validaion Loss')\n",
        "plt.show()"
      ]
    },
    {
      "cell_type": "code",
      "execution_count": null,
      "metadata": {
        "id": "j4xLhJooqmwG"
      },
      "outputs": [],
      "source": [
        "target_names = ['No Stroke', 'Stroke']\n",
        "cm = confusion_matrix(y_test, y_pred)\n",
        "\n",
        "plt.figure(figsize=(7, 6))\n",
        "sns.heatmap(cm, annot=True, fmt='d', cmap='Blues', xticklabels=target_names, yticklabels=target_names, linewidths=.5, linecolor='gray')\n",
        "plt.xlabel('Predicted')\n",
        "plt.ylabel('Actual')\n",
        "plt.title('Confusion Matrix Stroke')\n",
        "plt.show()\n",
        "\n",
        "y_cr = classification_report(y_test, y_pred, target_names=target_names, digits=4)\n",
        "print(y_cr)"
      ]
    },
    {
      "cell_type": "markdown",
      "metadata": {
        "id": "c-2DPBgBszNr"
      },
      "source": [
        "## Konversi Model"
      ]
    },
    {
      "cell_type": "code",
      "execution_count": null,
      "metadata": {
        "id": "pr9q1t1Zsy8v"
      },
      "outputs": [],
      "source": [
        "model.save(\"model.h5\")"
      ]
    },
    {
      "cell_type": "code",
      "execution_count": null,
      "metadata": {
        "id": "sJJOrCr_0JQM"
      },
      "outputs": [],
      "source": [
        "!pip install tensorflowjs"
      ]
    },
    {
      "cell_type": "code",
      "execution_count": null,
      "metadata": {
        "id": "fLJ56ty20OdO"
      },
      "outputs": [],
      "source": [
        "!tensorflowjs_converter --input_format=keras model.h5 tfjs_model"
      ]
    },
    {
      "cell_type": "markdown",
      "metadata": {
        "id": "unPE9a9zH-7S"
      },
      "source": [
        "## Inferensi Model"
      ]
    },
    {
      "cell_type": "code",
      "execution_count": null,
      "metadata": {
        "id": "ErOXJaWqH-7Z"
      },
      "outputs": [],
      "source": [
        "def infer_stroke(model, scaler, encoder, input_dict, glucose_median):\n",
        "    import pandas as pd\n",
        "    user_df = pd.DataFrame([input_dict])\n",
        "    # Impute avg_glucose_level jika null\n",
        "    if pd.isnull(user_df.loc[0, 'avg_glucose_level']):\n",
        "        user_df.loc[0, 'avg_glucose_level'] = glucose_median\n",
        "    user_df_encoded = pd.get_dummies(user_df)\n",
        "    for col in encoder.columns:\n",
        "        if col not in user_df_encoded:\n",
        "            user_df_encoded[col] = 0\n",
        "    user_df_encoded = user_df_encoded[encoder.columns]\n",
        "    user_scaled = scaler.transform(user_df_encoded)\n",
        "    proba = model.predict(user_scaled)[0][0]\n",
        "    pred = int(proba >= 0.5)\n",
        "    return {\n",
        "        'probabilitas_stroke': f'{proba*100:.2f}%',\n",
        "        'prediksi': 'Stroke' if pred == 1 else 'No Stroke'\n",
        "    }\n",
        "\n",
        "user_input = {}\n",
        "user_input['gender'] = input('Jenis Kelamin (Male/Female): ')\n",
        "user_input['age'] = float(input('Umur: '))\n",
        "tinggi_badan = float(input('Tinggi Badan(cm): ')) / 100\n",
        "berat_badan = float(input('Berat Badan(kg): '))\n",
        "user_input['bmi'] = berat_badan / (tinggi_badan ** 2)\n",
        "user_input['hypertension'] = int(input('Hypertension (0=tidak, 1=ya): '))\n",
        "user_input['heart_disease'] = int(input('Heart Disease (0=tidak, 1=ya): '))\n",
        "user_input['ever_married'] = input('Pernah Menikah? (Yes/No): ')\n",
        "user_input['Residence_type'] = input('Tipe Tempat Tinggal (Urban/Rural): ')\n",
        "\n",
        "gl_str = input('Rata-rata Glukosa (boleh dikosongi): ')\n",
        "if gl_str.strip() == '':\n",
        "    user_input['avg_glucose_level'] = np.nan\n",
        "else:\n",
        "    user_input['avg_glucose_level'] = float(gl_str)\n",
        "\n",
        "\n",
        "user_input['smoking_status'] = input('Status Merokok (never smoked/smokes): ')\n",
        "\n",
        "encoder_col = df_encoded.drop(columns='stroke')\n",
        "glucose_median = df['avg_glucose_level'].median()\n",
        "\n",
        "hasil = infer_stroke(model, scaler, encoder_col, user_input, glucose_median)\n",
        "print(hasil)"
      ]
    }
  ],
  "metadata": {
    "colab": {
      "provenance": []
    },
    "kernelspec": {
      "display_name": "Python 3",
      "name": "python3"
    },
    "language_info": {
      "name": "python"
    }
  },
  "nbformat": 4,
  "nbformat_minor": 0
}